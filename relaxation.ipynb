{
 "cells": [
  {
   "cell_type": "code",
   "execution_count": 1,
   "metadata": {
    "execution": {
     "iopub.execute_input": "2022-12-04T16:09:55.062156Z",
     "iopub.status.busy": "2022-12-04T16:09:55.061693Z",
     "iopub.status.idle": "2022-12-04T16:09:55.812571Z",
     "shell.execute_reply": "2022-12-04T16:09:55.811409Z",
     "shell.execute_reply.started": "2022-12-04T16:09:55.062067Z"
    }
   },
   "outputs": [],
   "source": [
    "%load_ext cython"
   ]
  },
  {
   "cell_type": "code",
   "execution_count": 2,
   "metadata": {
    "execution": {
     "iopub.execute_input": "2022-12-04T16:09:59.443125Z",
     "iopub.status.busy": "2022-12-04T16:09:59.441985Z",
     "iopub.status.idle": "2022-12-04T16:09:59.448733Z",
     "shell.execute_reply": "2022-12-04T16:09:59.447576Z",
     "shell.execute_reply.started": "2022-12-04T16:09:59.443076Z"
    }
   },
   "outputs": [],
   "source": [
    "import numpy as np\n",
    "import matplotlib.pyplot as plt"
   ]
  },
  {
   "cell_type": "code",
   "execution_count": 3,
   "metadata": {
    "execution": {
     "iopub.execute_input": "2022-12-04T16:10:24.762365Z",
     "iopub.status.busy": "2022-12-04T16:10:24.761888Z",
     "iopub.status.idle": "2022-12-04T16:10:26.432641Z",
     "shell.execute_reply": "2022-12-04T16:10:26.430151Z",
     "shell.execute_reply.started": "2022-12-04T16:10:24.762329Z"
    }
   },
   "outputs": [
    {
     "name": "stderr",
     "output_type": "stream",
     "text": [
      "\n",
      "Error compiling Cython file:\n",
      "------------------------------------------------------------\n",
      "...\n",
      "\n",
      "from cpython.pycapsule cimport PyCapsule_New\n",
      "\n",
      "import cython\n",
      "from libc.math cimport pi, sqrt, exp\n",
      "from scipy.special.cython_special cimport wofz, exp1\n",
      "^\n",
      "------------------------------------------------------------\n",
      "\n",
      "/Users/tobson/.cache/ipython/cython/_cython_magic_77f3a342ab51d62b0671202721477a19.pyx:6:0: 'scipy/special/cython_special.pxd' not found\n",
      "\n",
      "Error compiling Cython file:\n",
      "------------------------------------------------------------\n",
      "...\n",
      "\n",
      "from cpython.pycapsule cimport PyCapsule_New\n",
      "\n",
      "import cython\n",
      "from libc.math cimport pi, sqrt, exp\n",
      "from scipy.special.cython_special cimport wofz, exp1\n",
      "^\n",
      "------------------------------------------------------------\n",
      "\n",
      "/Users/tobson/.cache/ipython/cython/_cython_magic_77f3a342ab51d62b0671202721477a19.pyx:6:0: 'scipy/special/cython_special/wofz.pxd' not found\n",
      "\n",
      "Error compiling Cython file:\n",
      "------------------------------------------------------------\n",
      "...\n",
      "\n",
      "from cpython.pycapsule cimport PyCapsule_New\n",
      "\n",
      "import cython\n",
      "from libc.math cimport pi, sqrt, exp\n",
      "from scipy.special.cython_special cimport wofz, exp1\n",
      "^\n",
      "------------------------------------------------------------\n",
      "\n",
      "/Users/tobson/.cache/ipython/cython/_cython_magic_77f3a342ab51d62b0671202721477a19.pyx:6:0: 'scipy/special/cython_special/exp1.pxd' not found\n",
      "\n",
      "Error compiling Cython file:\n",
      "------------------------------------------------------------\n",
      "...\n",
      "    x = args[0]\n",
      "    q = args[1]\n",
      "\n",
      "    xi = sqrt(0.5)*x\n",
      "\n",
      "    w = wofz(xi)\n",
      "       ^\n",
      "------------------------------------------------------------\n",
      "\n",
      "/Users/tobson/.cache/ipython/cython/_cython_magic_77f3a342ab51d62b0671202721477a19.pyx:24:8: 'wofz' is not a constant, variable or function identifier\n",
      "\n",
      "Error compiling Cython file:\n",
      "------------------------------------------------------------\n",
      "...\n",
      "    W_i = sqrt(pi)*xi*creal(w)\n",
      "\n",
      "    D_r = 1 - q*q*W_r\n",
      "    D_i =   - q*q*W_i\n",
      "\n",
      "    return exp(-xi*xi)*exp1(xi*xi)/(D_r*D_r + D_i*D_i)\n",
      "                      ^\n",
      "------------------------------------------------------------\n",
      "\n",
      "/Users/tobson/.cache/ipython/cython/_cython_magic_77f3a342ab51d62b0671202721477a19.pyx:32:23: 'exp1' is not a constant, variable or function identifier\n"
     ]
    }
   ],
   "source": [
    "%%cython\n",
    "\n",
    "from cpython.pycapsule cimport PyCapsule_New\n",
    "\n",
    "import cython\n",
    "from libc.math cimport pi, sqrt, exp\n",
    "from scipy.special.cython_special cimport wofz, exp1\n",
    "\n",
    "cdef extern from \"complex.h\":\n",
    "    double creal(double complex)\n",
    "    double cimag(double complex)\n",
    "\n",
    "\n",
    "@cython.cdivision(True)\n",
    "cdef double c_kernel(int n, double[2] args):\n",
    "\n",
    "    cdef double x, q, xi, W_r, W_i, D_r, D_i\n",
    "    cdef double complex w\n",
    "\n",
    "    x = args[0]\n",
    "    q = args[1]\n",
    "\n",
    "    xi = sqrt(0.5)*x\n",
    "\n",
    "    w = wofz(xi)\n",
    "\n",
    "    W_r = 1 - sqrt(pi)*xi*cimag(w)\n",
    "    W_i = sqrt(pi)*xi*creal(w)\n",
    "\n",
    "    D_r = 1 - q*q*W_r\n",
    "    D_i =   - q*q*W_i\n",
    "\n",
    "    return exp(-xi*xi)*exp1(xi*xi)/(D_r*D_r + D_i*D_i)\n",
    "\n",
    "\n",
    "def kernel(x, q):\n",
    "\n",
    "    cdef double[2] args\n",
    "\n",
    "    args[0] = x\n",
    "    args[1] = q\n",
    "\n",
    "    return c_kernel(2, args)\n",
    "\n",
    "\n",
    "def get_LowLevelCallable():\n",
    "\n",
    "    from scipy import LowLevelCallable\n",
    "\n",
    "    func_capsule = PyCapsule_New(<void*>c_kernel, \"double (int, double *)\", NULL)\n",
    "\n",
    "    return LowLevelCallable(func_capsule)"
   ]
  },
  {
   "cell_type": "code",
   "execution_count": 4,
   "metadata": {
    "execution": {
     "iopub.execute_input": "2022-12-04T16:10:40.374623Z",
     "iopub.status.busy": "2022-12-04T16:10:40.373447Z",
     "iopub.status.idle": "2022-12-04T16:10:40.389865Z",
     "shell.execute_reply": "2022-12-04T16:10:40.388454Z",
     "shell.execute_reply.started": "2022-12-04T16:10:40.374562Z"
    }
   },
   "outputs": [
    {
     "ename": "ModuleNotFoundError",
     "evalue": "No module named 'scipy'",
     "output_type": "error",
     "traceback": [
      "\u001b[0;31m---------------------------------------------------------------------------\u001b[0m",
      "\u001b[0;31mModuleNotFoundError\u001b[0m                       Traceback (most recent call last)",
      "Cell \u001b[0;32mIn[4], line 2\u001b[0m\n\u001b[1;32m      1\u001b[0m \u001b[38;5;28;01mfrom\u001b[39;00m \u001b[38;5;21;01mmath\u001b[39;00m \u001b[38;5;28;01mimport\u001b[39;00m pi, sqrt, exp\n\u001b[0;32m----> 2\u001b[0m \u001b[38;5;28;01mfrom\u001b[39;00m \u001b[38;5;21;01mscipy\u001b[39;00m\u001b[38;5;21;01m.\u001b[39;00m\u001b[38;5;21;01mspecial\u001b[39;00m \u001b[38;5;28;01mimport\u001b[39;00m wofz, exp1\n\u001b[1;32m      4\u001b[0m \u001b[38;5;28;01mdef\u001b[39;00m \u001b[38;5;21mkernel2\u001b[39m(x, q):\n\u001b[1;32m      5\u001b[0m     ξ \u001b[38;5;241m=\u001b[39m sqrt(\u001b[38;5;241m0.5\u001b[39m)\u001b[38;5;241m*\u001b[39mx\n",
      "\u001b[0;31mModuleNotFoundError\u001b[0m: No module named 'scipy'"
     ]
    }
   ],
   "source": [
    "from math import pi, sqrt, exp\n",
    "from scipy.special import wofz, exp1\n",
    "\n",
    "def kernel2(x, q):\n",
    "    ξ = sqrt(0.5)*x\n",
    "    W = 1 + 1j*sqrt(pi)*ξ*wofz(ξ)\n",
    "    D = 1 - q*q*W\n",
    "    return exp1(ξ*ξ)*exp(-ξ*ξ)/abs(D)**2\n",
    "\n",
    "for i in range(10):\n",
    "    x = np.random.randn()\n",
    "    q = np.random.rand()\n",
    "    assert np.isclose(kernel(x, q), kernel2(x, q))"
   ]
  },
  {
   "cell_type": "code",
   "execution_count": null,
   "metadata": {
    "execution": {
     "iopub.execute_input": "2022-12-04T16:19:29.559266Z",
     "iopub.status.busy": "2022-12-04T16:19:29.558798Z",
     "iopub.status.idle": "2022-12-04T16:19:29.570624Z",
     "shell.execute_reply": "2022-12-04T16:19:29.569536Z",
     "shell.execute_reply.started": "2022-12-04T16:19:29.559213Z"
    }
   },
   "outputs": [],
   "source": [
    "from scipy.integrate import quad\n",
    "\n",
    "def integrate_and_sum(q0, ninv, lower=-np.inf, upper=np.inf):\n",
    "    \n",
    "    func = get_LowLevelCallable()\n",
    "    \n",
    "    G_bare = np.zeros_like(q0)\n",
    "    G_dressed = np.zeros_like(q0)\n",
    "    max_error = 0\n",
    "\n",
    "    for j in range(q0.size):\n",
    "\n",
    "        for n1 in ninv:\n",
    "\n",
    "            q = q0[j]*n1\n",
    "            q3 = q**3\n",
    "\n",
    "            G_bare[j] += q3\n",
    "\n",
    "            dressed, error = quad(func, lower, upper, args=(q,))\n",
    "            max_error = max(error, max_error)\n",
    "            G_dressed[j] += q3*dressed\n",
    "            \n",
    "        bare, error = quad(func, lower, upper, args=(0,))\n",
    "        max_error = max(error, max_error)\n",
    "        G_bare[j] *= bare\n",
    "        \n",
    "        print(\"\\r{:.0%}\".format((j+1)/q0.size), end='', flush=True)\n",
    "        \n",
    "    print(\"\\nMaximum error: {}\".format(max_error))\n",
    "    \n",
    "    return G_bare, G_dressed"
   ]
  },
  {
   "cell_type": "code",
   "execution_count": null,
   "metadata": {
    "execution": {
     "iopub.execute_input": "2022-12-04T16:11:09.683895Z",
     "iopub.status.busy": "2022-12-04T16:11:09.683493Z",
     "iopub.status.idle": "2022-12-04T16:11:09.695420Z",
     "shell.execute_reply": "2022-12-04T16:11:09.693781Z",
     "shell.execute_reply.started": "2022-12-04T16:11:09.683865Z"
    }
   },
   "outputs": [],
   "source": [
    "nmax = 5\n",
    "n2 = []\n",
    "for nx in range(-nmax, nmax + 1):\n",
    "    for ny in range(-nmax, nmax + 1):\n",
    "        for nz in range(-nmax, nmax + 1):\n",
    "            n2.append(nx*nx + ny*ny + nz*nz)\n",
    "n2 = np.array(n2)\n",
    "mask = np.logical_or(n2 == 0, n2 > nmax*nmax)\n",
    "n2_compressed = np.ma.masked_where(mask, n2).compressed()\n",
    "n2_sorted = np.sort(n2_compressed)\n",
    "ninv = 1/np.sqrt(n2_sorted)"
   ]
  },
  {
   "cell_type": "code",
   "execution_count": null,
   "metadata": {
    "execution": {
     "iopub.execute_input": "2022-12-04T16:11:19.173860Z",
     "iopub.status.busy": "2022-12-04T16:11:19.173453Z",
     "iopub.status.idle": "2022-12-04T16:11:25.374799Z",
     "shell.execute_reply": "2022-12-04T16:11:25.373914Z",
     "shell.execute_reply.started": "2022-12-04T16:11:19.173828Z"
    }
   },
   "outputs": [],
   "source": [
    "q0 = np.linspace(0.01, 0.99, 128)\n",
    "G_bare, G_dressed = integrate_and_sum(q0, ninv, lower=0)\n",
    "\n",
    "plt.semilogy(q0, G_dressed/G_bare - 1);"
   ]
  },
  {
   "cell_type": "code",
   "execution_count": null,
   "metadata": {},
   "outputs": [],
   "source": []
  }
 ],
 "metadata": {
  "kernelspec": {
   "display_name": "Python 3 (ipykernel)",
   "language": "python",
   "name": "python3"
  },
  "language_info": {
   "codemirror_mode": {
    "name": "ipython",
    "version": 3
   },
   "file_extension": ".py",
   "mimetype": "text/x-python",
   "name": "python",
   "nbconvert_exporter": "python",
   "pygments_lexer": "ipython3",
   "version": "3.10.8"
  }
 },
 "nbformat": 4,
 "nbformat_minor": 4
}
