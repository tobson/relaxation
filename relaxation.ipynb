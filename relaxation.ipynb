{
 "cells": [
  {
   "cell_type": "code",
   "execution_count": null,
   "metadata": {
    "execution": {
     "iopub.execute_input": "2022-12-04T16:09:55.062156Z",
     "iopub.status.busy": "2022-12-04T16:09:55.061693Z",
     "iopub.status.idle": "2022-12-04T16:09:55.812571Z",
     "shell.execute_reply": "2022-12-04T16:09:55.811409Z",
     "shell.execute_reply.started": "2022-12-04T16:09:55.062067Z"
    }
   },
   "outputs": [],
   "source": [
    "%load_ext cython"
   ]
  },
  {
   "cell_type": "code",
   "execution_count": null,
   "metadata": {
    "execution": {
     "iopub.execute_input": "2022-12-04T16:09:59.443125Z",
     "iopub.status.busy": "2022-12-04T16:09:59.441985Z",
     "iopub.status.idle": "2022-12-04T16:09:59.448733Z",
     "shell.execute_reply": "2022-12-04T16:09:59.447576Z",
     "shell.execute_reply.started": "2022-12-04T16:09:59.443076Z"
    }
   },
   "outputs": [],
   "source": [
    "import numpy as np\n",
    "import scipy as sp\n",
    "import matplotlib.pyplot as plt"
   ]
  },
  {
   "cell_type": "markdown",
   "metadata": {},
   "source": [
    "The function `kernel(ξ, q)` below computes the integral kernel\n",
    "$$K_q(\\xi)=E_1\\left(\\frac{\\xi^2}{2}\\right)\\frac{1}{|\\Delta_q(\\xi)|^2}\\,\\exp\\left(-\\frac{\\xi^2}{2}\\right),$$\n",
    "where the dispersion function\n",
    "$$\\Delta_q(\\xi)=1-q^2 W(\\xi).$$\n",
    "Here,\n",
    "$$q=k_{\\mathrm{J}}/k$$\n",
    "is the dimensionless wavelength. Note that $\\Delta_q(\\xi)$ attains its vacuum value in the limit of infinitely short wavelength, i.e. $\\Delta_0(\\xi)=1$.\n",
    "\n",
    "$W(\\zeta)$ is the plasma dispersion function as defined by Ichimaru (1973). It is given by\n",
    "$$W(\\zeta)=\\frac{1}{\\sqrt{2\\pi}}\\int_{-\\infty}^\\infty\\mathrm{d}x\\,\\frac{\\exp(-x^2/2)}{x - \\zeta}$$\n",
    "for $\\mathrm{Im}\\,\\zeta>0$ and through analytic continuation for $\\mathrm{Im}\\,\\zeta\\le 0$. In terms of the Faddeeva function (`scipy.special.wofz`)\n",
    "$$w(\\zeta)=\\exp(-\\zeta^2)\\,\\mathrm{erfc}(-i\\zeta),$$\n",
    "Ichmaru's plasma dispersion function is given by\n",
    "$$W(\\zeta)=1 + i\\sqrt{\\frac{\\pi}{2}}\\,\\zeta\\,w\\left(\\frac{\\zeta}{\\sqrt{2}}\\right).$$"
   ]
  },
  {
   "cell_type": "code",
   "execution_count": null,
   "metadata": {
    "execution": {
     "iopub.execute_input": "2022-12-04T16:10:40.374623Z",
     "iopub.status.busy": "2022-12-04T16:10:40.373447Z",
     "iopub.status.idle": "2022-12-04T16:10:40.389865Z",
     "shell.execute_reply": "2022-12-04T16:10:40.388454Z",
     "shell.execute_reply.started": "2022-12-04T16:10:40.374562Z"
    }
   },
   "outputs": [],
   "source": [
    "from math import pi, sqrt, exp\n",
    "\n",
    "def W(ζ):\n",
    "    z = sqrt(0.5)*ζ\n",
    "    return 1 + 1j*sqrt(pi)*z*sp.special.wofz(z)\n",
    "\n",
    "def kernel(ξ, q):\n",
    "    Δ = 1 - q*q*W(ξ)\n",
    "    return exp(-0.5*ξ*ξ)*sp.special.exp1(0.5*ξ*ξ)/abs(Δ)**2"
   ]
  },
  {
   "cell_type": "markdown",
   "metadata": {},
   "source": [
    "Below is a Cython implementation of the same function. This can be passed to `scipy.integrate.quad`, which then runs a lot faster. Note that on the real axis, the real and imaginary parts of $W(x)$ are given by\n",
    "$$\\mathrm{Re}\\,W(\\xi) = 1 - \\sqrt{2}\\,\\xi\\,F\\left(\\frac{\\xi}{\\sqrt{2}}\\right)$$\n",
    "and\n",
    "$$\\mathrm{Im}\\,W(\\xi) = i\\sqrt{\\frac{\\pi}{2}}\\,\\xi\\,\\exp\\left(-\\frac{\\xi^2}{2}\\right),$$\n",
    "where\n",
    "$$F(x)=\\exp(-x^2)\\int_0^x\\mathrm{d}t\\,\\exp(t^2)$$\n",
    "is Dawson's function (`scipy.special.dawsn`)."
   ]
  },
  {
   "cell_type": "code",
   "execution_count": null,
   "metadata": {
    "execution": {
     "iopub.execute_input": "2022-12-04T16:10:24.762365Z",
     "iopub.status.busy": "2022-12-04T16:10:24.761888Z",
     "iopub.status.idle": "2022-12-04T16:10:26.432641Z",
     "shell.execute_reply": "2022-12-04T16:10:26.430151Z",
     "shell.execute_reply.started": "2022-12-04T16:10:24.762329Z"
    }
   },
   "outputs": [],
   "source": [
    "%%cython\n",
    "\n",
    "from cpython.pycapsule cimport PyCapsule_New\n",
    "\n",
    "import cython\n",
    "from libc.math cimport pi, sqrt, exp\n",
    "from scipy.special.cython_special cimport dawsn, exp1\n",
    "\n",
    "@cython.cdivision(True)\n",
    "cdef double c_kernel(int n, double[2] args):\n",
    "\n",
    "    cdef double x, q, xi, F, W_r, W_i, D_r, D_i\n",
    "\n",
    "    xi = args[0]\n",
    "    q = args[1]\n",
    "\n",
    "    x = sqrt(0.5)*xi\n",
    "\n",
    "    W_r = 1 - 2*x*dawsn(x)\n",
    "    W_i = sqrt(pi)*x*exp(-x*x)\n",
    "\n",
    "    D_r = 1 - q*q*W_r\n",
    "    D_i =   - q*q*W_i\n",
    "\n",
    "    return exp(-x*x)*exp1(x*x)/(D_r*D_r + D_i*D_i)\n",
    "\n",
    "\n",
    "def kernel_fast(xi, q):\n",
    "\n",
    "    cdef double[2] args\n",
    "\n",
    "    args[0] = xi\n",
    "    args[1] = q\n",
    "\n",
    "    return c_kernel(2, args)\n",
    "\n",
    "\n",
    "def get_LowLevelCallable():\n",
    "\n",
    "    from scipy import LowLevelCallable\n",
    "\n",
    "    func_capsule = PyCapsule_New(<void*>c_kernel, \"double (int, double *)\", NULL)\n",
    "\n",
    "    return LowLevelCallable(func_capsule)"
   ]
  },
  {
   "cell_type": "markdown",
   "metadata": {},
   "source": [
    "Make sure the Cython version gives the same result as the pure Python version."
   ]
  },
  {
   "cell_type": "code",
   "execution_count": null,
   "metadata": {},
   "outputs": [],
   "source": [
    "for i in range(10):\n",
    "    ξ = np.random.randn()\n",
    "    q = np.random.rand()\n",
    "    assert np.isclose(kernel(ξ, q), kernel_fast(ξ, q))"
   ]
  },
  {
   "cell_type": "markdown",
   "metadata": {},
   "source": [
    "The following function computes the dimensionless relaxation rate\n",
    "$$\\frac{\\Gamma}{k_{\\mathrm{J}}\\sigma\\mu}=\\sum_{\\boldsymbol{n}\\ne 0} q^3\\int_0^\\infty\\mathrm{d}\\xi\\,K_q(\\xi),$$\n",
    "where the integral kernel $K_q(\\xi)$ is defined above. The sum over wavenumbers $\\boldsymbol{n}$ is computed as follows.\n",
    "\n",
    "We suppose that the stellar system is contained inside a periodic cube of volume $L^3$. The wavevectors are then given by\n",
    "$$\\boldsymbol{k}=\\frac{2\\pi}{L}\\boldsymbol{n}.$$\n",
    "The magnitude of the wavevector, i.e. $k=|\\boldsymbol{k}|$, is obviously\n",
    "$$k=\\frac{2\\pi}{L}n.$$\n",
    "Given this, the dimensionless wavelength $q=k_{\\mathrm{J}}/k$ can be written as\n",
    "$$q=\\frac{L}{\\lambda_{\\mathrm{J}}}\\frac{2\\pi/L}{k}=\\frac{q_0}{n},$$\n",
    "where $\\lambda_{\\mathrm{J}}=2\\pi/k_{\\mathrm{J}}$ is the Jeans length. The above equation serves as the definition of the dimensionless box size $q_0=L/\\lambda_{\\mathrm{J}}$.\n",
    "\n",
    "The function below sums over all wavenumbers $\\boldsymbol{n}$ satisfying $0<n<5$. It computes both the *dressed* relaxation rate as defined above and the *vacuum* relaxation rate\n",
    "$$\\frac{\\Gamma_0}{k_{\\mathrm{J}}\\sigma\\mu}=\\sum_{\\boldsymbol{n}\\ne 0} q^3\\int_0^\\infty\\mathrm{d}\\xi\\,K_0(\\xi),$$\n",
    "which neglects self-gravity. The integral over $\\xi$ can be taken out of the sum over $\\boldsymbol{n}$."
   ]
  },
  {
   "cell_type": "code",
   "execution_count": null,
   "metadata": {},
   "outputs": [],
   "source": [
    "# Maximum magntitude of the wavenumber\n",
    "nmax = 5\n",
    "\n",
    "# Get a vector of squared wavenumbers |n|² that satisfy 0 < nx**2 + ny**2 + nz**2 <= nmax**2.\n",
    "n2 = []\n",
    "for nx in range(-nmax, nmax + 1):\n",
    "    for ny in range(-nmax, nmax + 1):\n",
    "        for nz in range(-nmax, nmax + 1):\n",
    "            n2.append(nx*nx + ny*ny + nz*nz)\n",
    "n2 = np.array(n2)\n",
    "mask = np.logical_or(n2 == 0, n2 > nmax*nmax)\n",
    "n2_compressed = np.ma.masked_where(mask, n2).compressed()\n",
    "\n",
    "# Sort the squared wave numbers\n",
    "n2_sorted = np.sort(n2_compressed)\n",
    "\n",
    "# Inverse of the magnitude of the wavenumbers\n",
    "ninv = 1/np.sqrt(n2_sorted)\n",
    "\n",
    "# Array of dimensionless box sizes\n",
    "q0 = np.linspace(0.01, 0.99, 128)\n",
    "\n",
    "# Arrays to hold the dressed and bare relaxation rates\n",
    "Γ = np.zeros_like(q0)\n",
    "Γ0 = np.zeros_like(q0)\n",
    "\n",
    "max_error = 0\n",
    "\n",
    "# Get the fast, Cython-based integral kernel\n",
    "cython_kernel = get_LowLevelCallable()\n",
    "\n",
    "# Loop over box sizes\n",
    "for j in range(q0.size):\n",
    "\n",
    "    # Sum over wavenumbers\n",
    "    for n1 in ninv:\n",
    "\n",
    "        # Dimensionless inverse wavenumber\n",
    "        q = q0[j]*n1\n",
    "\n",
    "        # Short hand\n",
    "        q3 = q**3\n",
    "\n",
    "        # Dressed relaxation rate per wavenumber\n",
    "        dressed, error = sp.integrate.quad(cython_kernel, 0.0, np.inf, args=(q,))\n",
    "        max_error = max(error, max_error)\n",
    "        Γ[j] += q3*dressed\n",
    "\n",
    "        # Vacuum relaxation rate per wavenumber. First factor ...\n",
    "        Γ0[j] += q3\n",
    "\n",
    "    # ... and second factor\n",
    "    bare, error = sp.integrate.quad(cython_kernel, 0.0, np.inf, args=(0,))\n",
    "    max_error = max(error, max_error)\n",
    "    Γ0[j] *= bare\n",
    "\n",
    "    print(\"\\r{:.0%}\".format((j+1)/q0.size), end='', flush=True)\n",
    "\n",
    "print(\"\\nMaximum error: {}\".format(max_error))\n",
    "\n",
    "# Plot the ratio of dressed to vacuum relaxation rate\n",
    "plt.semilogy(q0, Γ/Γ0 - 1);"
   ]
  }
 ],
 "metadata": {
  "kernelspec": {
   "display_name": "Python 3.10.8 64-bit",
   "language": "python",
   "name": "python3"
  },
  "language_info": {
   "codemirror_mode": {
    "name": "ipython",
    "version": 3
   },
   "file_extension": ".py",
   "mimetype": "text/x-python",
   "name": "python",
   "nbconvert_exporter": "python",
   "pygments_lexer": "ipython3",
   "version": "3.10.8"
  },
  "vscode": {
   "interpreter": {
    "hash": "7a792fcb311f9eb9f3c1b942a8c87ada8484712b89b670347c16a1088e0a1f69"
   }
  }
 },
 "nbformat": 4,
 "nbformat_minor": 4
}
