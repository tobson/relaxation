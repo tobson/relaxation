{
 "cells": [
  {
   "cell_type": "code",
   "execution_count": null,
   "metadata": {
    "execution": {
     "iopub.execute_input": "2022-12-04T16:09:55.062156Z",
     "iopub.status.busy": "2022-12-04T16:09:55.061693Z",
     "iopub.status.idle": "2022-12-04T16:09:55.812571Z",
     "shell.execute_reply": "2022-12-04T16:09:55.811409Z",
     "shell.execute_reply.started": "2022-12-04T16:09:55.062067Z"
    }
   },
   "outputs": [],
   "source": [
    "%load_ext cython"
   ]
  },
  {
   "cell_type": "code",
   "execution_count": null,
   "metadata": {
    "execution": {
     "iopub.execute_input": "2022-12-04T16:09:59.443125Z",
     "iopub.status.busy": "2022-12-04T16:09:59.441985Z",
     "iopub.status.idle": "2022-12-04T16:09:59.448733Z",
     "shell.execute_reply": "2022-12-04T16:09:59.447576Z",
     "shell.execute_reply.started": "2022-12-04T16:09:59.443076Z"
    }
   },
   "outputs": [],
   "source": [
    "import numpy as np\n",
    "import scipy as sp\n",
    "import matplotlib.pyplot as plt"
   ]
  },
  {
   "cell_type": "markdown",
   "metadata": {},
   "source": [
    "The function `kernel(x, q)` below computes the integral kernel\n",
    "$$K_q(x)=\\frac{\\exp(-x^2) E_1(x^2)}{|\\Delta_q(x)|^2},$$\n",
    "where the dispersion function\n",
    "$$\\Delta_q(x)=1-q^2 W(x).$$\n",
    "Here,\n",
    "$$q=k_{\\mathrm{J}}/k$$\n",
    "is the dimensionless inverse wavenumber. Note that $\\Delta_q(x)$ attains its vacuum value for $q=0$, i.e. $\\Delta_0(x)=1$.\n",
    "\n",
    "$W(z)$ is the plasma dispersion function as defined by Ichimaru (1973). It is given by\n",
    "$$W(z)=\\frac{1}{\\sqrt{2\\pi}}\\int_{-\\infty}^\\infty\\mathrm{d}x\\,\\frac{\\exp(-x^2/2)}{x - z}$$\n",
    "for $\\mathrm{Im}\\,z>0$ and through analytic continuation for $\\mathrm{Im}\\,z\\le 0$."
   ]
  },
  {
   "cell_type": "code",
   "execution_count": null,
   "metadata": {
    "execution": {
     "iopub.execute_input": "2022-12-04T16:10:40.374623Z",
     "iopub.status.busy": "2022-12-04T16:10:40.373447Z",
     "iopub.status.idle": "2022-12-04T16:10:40.389865Z",
     "shell.execute_reply": "2022-12-04T16:10:40.388454Z",
     "shell.execute_reply.started": "2022-12-04T16:10:40.374562Z"
    }
   },
   "outputs": [],
   "source": [
    "from math import pi, sqrt, exp\n",
    "\n",
    "def W(z):\n",
    "    ζ = sqrt(0.5)*z\n",
    "    return 1 + 1j*sqrt(pi)*ζ*sp.special.wofz(ζ)\n",
    "\n",
    "def kernel(x, q):\n",
    "    Δ = 1 - q*q*W(x)\n",
    "    return exp(-0.5*x*x)*sp.special.exp1(0.5*x*x)/abs(Δ)**2"
   ]
  },
  {
   "cell_type": "markdown",
   "metadata": {},
   "source": [
    "Below is a Cython implementation of the same function. This can be passed to `scipy.integrate.quad`, which then runs a lot faster. Note that on the real axis, the real and imaginary parts of $W(x)$ are given by\n",
    "$$\\mathrm{Re}\\,W(x) = 1 - \\sqrt{2}\\,x\\,F\\left(\\frac{x}{\\sqrt{2}}\\right)$$\n",
    "and\n",
    "$$\\mathrm{Im}\\,W(x) = i\\sqrt{\\frac{\\pi}{2}}\\,x\\,\\exp\\left(-\\frac{x^2}{2}\\right),$$\n",
    "where\n",
    "$$F(x)=\\exp(-x^2)\\int_0^x\\mathrm{d}t\\,\\exp(t^2)$$\n",
    "is Dawson's function."
   ]
  },
  {
   "cell_type": "code",
   "execution_count": null,
   "metadata": {
    "execution": {
     "iopub.execute_input": "2022-12-04T16:10:24.762365Z",
     "iopub.status.busy": "2022-12-04T16:10:24.761888Z",
     "iopub.status.idle": "2022-12-04T16:10:26.432641Z",
     "shell.execute_reply": "2022-12-04T16:10:26.430151Z",
     "shell.execute_reply.started": "2022-12-04T16:10:24.762329Z"
    }
   },
   "outputs": [],
   "source": [
    "%%cython\n",
    "\n",
    "from cpython.pycapsule cimport PyCapsule_New\n",
    "\n",
    "import cython\n",
    "from libc.math cimport pi, sqrt, exp\n",
    "from scipy.special.cython_special cimport dawsn, exp1\n",
    "\n",
    "@cython.cdivision(True)\n",
    "cdef double c_kernel(int n, double[2] args):\n",
    "\n",
    "    cdef double x, q, xi, F, W_r, W_i, D_r, D_i\n",
    "\n",
    "    x = args[0]\n",
    "    q = args[1]\n",
    "\n",
    "    xi = sqrt(0.5)*x\n",
    "\n",
    "    F = dawsn(xi)\n",
    "\n",
    "    W_r = 1 - 2*xi*dawsn(xi)\n",
    "    W_i = sqrt(pi)*xi*exp(-xi*xi)\n",
    "\n",
    "    D_r = 1 - q*q*W_r\n",
    "    D_i =   - q*q*W_i\n",
    "\n",
    "    return exp(-xi*xi)*exp1(xi*xi)/(D_r*D_r + D_i*D_i)\n",
    "\n",
    "\n",
    "def kernel_fast(x, q):\n",
    "\n",
    "    cdef double[2] args\n",
    "\n",
    "    args[0] = x\n",
    "    args[1] = q\n",
    "\n",
    "    return c_kernel(2, args)\n",
    "\n",
    "\n",
    "def get_LowLevelCallable():\n",
    "\n",
    "    from scipy import LowLevelCallable\n",
    "\n",
    "    func_capsule = PyCapsule_New(<void*>c_kernel, \"double (int, double *)\", NULL)\n",
    "\n",
    "    return LowLevelCallable(func_capsule)"
   ]
  },
  {
   "cell_type": "markdown",
   "metadata": {},
   "source": [
    "Make sure the Cython version gives the same result as the pure Python version."
   ]
  },
  {
   "cell_type": "code",
   "execution_count": null,
   "metadata": {},
   "outputs": [],
   "source": [
    "for i in range(10):\n",
    "    x = np.random.randn()\n",
    "    q = np.random.rand()\n",
    "    assert np.isclose(kernel(x, q), kernel_fast(x, q))"
   ]
  },
  {
   "cell_type": "markdown",
   "metadata": {},
   "source": [
    "The following function computes the dimensionless relaxation rate\n",
    "$$\\frac{\\Gamma}{k_{\\mathrm{J}}\\sigma\\mu}=\\sum_{\\boldsymbol{n}\\ne 0} q^3\\int_0^\\infty\\mathrm{d}x\\,K_q(x),$$\n",
    "where the integral kernel $K_q(x)$ is defined above. The sum over wavenumbers $\\boldsymbol{n}$ is computed as follows.\n",
    "\n",
    "We suppose that the stellar system is contained inside a periodic cube of volume $L^3$. The wavevectors are then given by\n",
    "$$\\boldsymbol{k}=\\frac{2\\pi}{L}\\boldsymbol{n}.$$\n",
    "The magnitude of the wavevector, i.e. $k=|\\boldsymbol{k}|$, is obviously\n",
    "$$k=\\frac{2\\pi}{L}n.$$\n",
    "Given this, the dimensionless inverse wavenumber $q=k_{\\mathrm{J}}/k$ can be written as\n",
    "$$q=\\frac{L}{\\lambda_{\\mathrm{J}}}\\frac{2\\pi/L}{k}=\\frac{q_0}{n},$$\n",
    "where $\\lambda_{\\mathrm{J}}=2\\pi/k_{\\mathrm{J}}$ is the Jeans length. The above equation serves as the definition of the dimensionless box size $q_0=L/\\lambda_{\\mathrm{J}}$.\n",
    "\n",
    "The function below sums over all wavenumbers $\\boldsymbol{n}$ satisfying $0<n<5$. It computes both the *dressed* relaxation rate as defined above and the *vacuum* relaxation rate\n",
    "$$\\frac{\\Gamma_0}{k_{\\mathrm{J}}\\sigma\\mu}=\\sum_{\\boldsymbol{n}\\ne 0} q^3\\int_0^\\infty\\mathrm{d}x\\,K_0(x),$$\n",
    "which neglects self-gravity. The integral over $x$ can be taken out of the sum over $\\boldsymbol{n}$."
   ]
  },
  {
   "cell_type": "code",
   "execution_count": null,
   "metadata": {},
   "outputs": [],
   "source": [
    "# Maximum magntitude of the wavenumber\n",
    "nmax = 5\n",
    "\n",
    "# Get a vector of squared wavenumbers |n|² that satisfy 0 < nx**2 + ny**2 + nz**2 <= nmax**2.\n",
    "n2 = []\n",
    "for nx in range(-nmax, nmax + 1):\n",
    "    for ny in range(-nmax, nmax + 1):\n",
    "        for nz in range(-nmax, nmax + 1):\n",
    "            n2.append(nx*nx + ny*ny + nz*nz)\n",
    "n2 = np.array(n2)\n",
    "mask = np.logical_or(n2 == 0, n2 > nmax*nmax)\n",
    "n2_compressed = np.ma.masked_where(mask, n2).compressed()\n",
    "\n",
    "# Sort the squared wave numbers\n",
    "n2_sorted = np.sort(n2_compressed)\n",
    "\n",
    "# Inverse of the magnitude of the wavenumbers\n",
    "ninv = 1/np.sqrt(n2_sorted)\n",
    "\n",
    "# Array of dimensionless box sizes\n",
    "q0 = np.linspace(0.01, 0.99, 128)\n",
    "\n",
    "# Arrays to hold the dressed and bare relaxation rates\n",
    "Γ = np.zeros_like(q0)\n",
    "Γ0 = np.zeros_like(q0)\n",
    "\n",
    "max_error = 0\n",
    "\n",
    "# Get the fast, Cython-based integral kernel\n",
    "cython_kernel = get_LowLevelCallable()\n",
    "\n",
    "# Loop over box sizes\n",
    "for j in range(q0.size):\n",
    "\n",
    "    # Sum over wavenumbers\n",
    "    for n1 in ninv:\n",
    "\n",
    "        # Dimensionless inverse wavenumber\n",
    "        q = q0[j]*n1\n",
    "\n",
    "        # Short hand\n",
    "        q3 = q**3\n",
    "\n",
    "        # Dressed relaxation rate per wavenumber\n",
    "        dressed, error = sp.integrate.quad(cython_kernel, 0.0, np.inf, args=(q,))\n",
    "        max_error = max(error, max_error)\n",
    "        Γ[j] += q3*dressed\n",
    "\n",
    "        # Vacuum relaxation rate per wavenumber. First factor ...\n",
    "        Γ0[j] += q3\n",
    "\n",
    "    # ... and second factor\n",
    "    bare, error = sp.integrate.quad(cython_kernel, 0.0, np.inf, args=(0,))\n",
    "    max_error = max(error, max_error)\n",
    "    Γ0[j] *= bare\n",
    "\n",
    "    print(\"\\r{:.0%}\".format((j+1)/q0.size), end='', flush=True)\n",
    "\n",
    "print(\"\\nMaximum error: {}\".format(max_error))\n",
    "\n",
    "# Plot the ratio of dressed to vacuum relaxation rate\n",
    "plt.semilogy(q0, Γ/Γ0 - 1);"
   ]
  },
  {
   "cell_type": "code",
   "execution_count": null,
   "metadata": {},
   "outputs": [],
   "source": []
  }
 ],
 "metadata": {
  "kernelspec": {
   "display_name": "Python 3 (ipykernel)",
   "language": "python",
   "name": "python3"
  },
  "language_info": {
   "codemirror_mode": {
    "name": "ipython",
    "version": 3
   },
   "file_extension": ".py",
   "mimetype": "text/x-python",
   "name": "python",
   "nbconvert_exporter": "python",
   "pygments_lexer": "ipython3",
   "version": "3.10.8"
  }
 },
 "nbformat": 4,
 "nbformat_minor": 4
}
